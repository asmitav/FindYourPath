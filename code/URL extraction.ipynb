{
 "cells": [
  {
   "cell_type": "code",
   "execution_count": 16,
   "metadata": {
    "collapsed": true
   },
   "outputs": [],
   "source": [
    "import time\n",
    "from selenium import webdriver"
   ]
  },
  {
   "cell_type": "code",
   "execution_count": 17,
   "metadata": {
    "collapsed": true
   },
   "outputs": [],
   "source": [
    "def get_job_url(job_title, need):\n",
    "    links = set()\n",
    "    driver = get_title(job_title)\n",
    "    time.sleep(2) # make sure next driver function is not called before loading\n",
    "    \n",
    "    while len(links) < need:\n",
    "        links = links.union(get_urls(driver))\n",
    "        next_page(driver)\n",
    "    \n",
    "    driver.close()\n",
    "    return links\n",
    "\n",
    "def get_title(job_title):  \n",
    "    driver = webdriver.Chrome() # '/usr/local/bin/chromedriver')\n",
    "    driver.get('https://resumes.indeed.com')\n",
    "    title = driver.find_element_by_name('q') # find text box to enter title\n",
    "    title.clear() # clear text box\n",
    "    title.send_keys(job_title)\n",
    "    \n",
    "    where = driver.find_element_by_name('l')\n",
    "    where.clear()\n",
    "    where.send_keys('United States') # only interested in resumes from US\n",
    "    where.submit()  \n",
    "    return driver\n",
    "\n",
    "def get_urls(driver):\n",
    "    clients = driver.find_elements_by_class_name('rezemp-u-h4') # point to resumes    \n",
    "    links = [s.get_attribute('href') for s in clients] # resume links\n",
    "    \n",
    "    return links\n",
    "\n",
    "def next_page(driver):\n",
    "    next_ =\".icl-TextLink.icl-TextLink--primary.rezemp-pagination-nextbutton\"\n",
    "    next_page = driver.find_element_by_css_selector(next_)\n",
    "    next_page.click()\n",
    "    \n",
    "def write_url_file(job_title, urls):\n",
    "    with open('Data/Profile_URLs/'+job_title+'.txt', 'w') as f:\n",
    "        for u in urls:\n",
    "            f.write('%s\\n' % u) "
   ]
  },
  {
   "cell_type": "code",
   "execution_count": 20,
   "metadata": {
    "collapsed": true
   },
   "outputs": [],
   "source": [
    "job_titles = ['Data Scientist', 'Data Analyst', 'Data Engineer', 'Software Engineer',\n",
    "              'Business Analyst', 'Product Manager', 'VP of Engineering', 'VP of Marketing',\n",
    "              'Financial Analyst', 'Business Strategist', 'Engineering Manager',\n",
    "              'Sales Manager', 'Finance Manager', 'Sales Associate', 'Operation Analyst',\n",
    "              'VP of Operations', 'Operation Manager', \n",
    "              'Architect', 'Software Architect', 'Human Resource Manager', 'Recruiter',\n",
    "              'Marketing Director', 'Auditor']"
   ]
  },
  {
   "cell_type": "code",
   "execution_count": 21,
   "metadata": {
    "collapsed": true
   },
   "outputs": [],
   "source": [
    "need = 500\n",
    "for jt in job_titles:\n",
    "    urls = get_job_url(jt, need)\n",
    "    write_url_file(jt, urls)"
   ]
  },
  {
   "cell_type": "code",
   "execution_count": null,
   "metadata": {
    "collapsed": true
   },
   "outputs": [],
   "source": []
  },
  {
   "cell_type": "code",
   "execution_count": null,
   "metadata": {
    "collapsed": true
   },
   "outputs": [],
   "source": []
  },
  {
   "cell_type": "code",
   "execution_count": null,
   "metadata": {
    "collapsed": true
   },
   "outputs": [],
   "source": []
  }
 ],
 "metadata": {
  "kernelspec": {
   "display_name": "Python 2",
   "language": "python",
   "name": "python2"
  },
  "language_info": {
   "codemirror_mode": {
    "name": "ipython",
    "version": 2
   },
   "file_extension": ".py",
   "mimetype": "text/x-python",
   "name": "python",
   "nbconvert_exporter": "python",
   "pygments_lexer": "ipython2",
   "version": "2.7.13"
  }
 },
 "nbformat": 4,
 "nbformat_minor": 2
}
