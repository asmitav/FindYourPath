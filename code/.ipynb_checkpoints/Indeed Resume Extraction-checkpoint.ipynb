{
 "cells": [
  {
   "cell_type": "code",
   "execution_count": 99,
   "metadata": {
    "collapsed": true
   },
   "outputs": [],
   "source": [
    "import time\n",
    "from selenium import webdriver\n",
    "import pandas as pd"
   ]
  },
  {
   "cell_type": "code",
   "execution_count": 86,
   "metadata": {
    "collapsed": false
   },
   "outputs": [
    {
     "name": "stdout",
     "output_type": "stream",
     "text": [
      "https://resumes.indeed.com/search?q=doctor\n"
     ]
    }
   ],
   "source": [
    "# list of profiles and url using https://resumes.indeed.com/search?q=doctor\n",
    "driver = webdriver.Chrome('/usr/local/bin/chromedriver')\n",
    "driver.get('https://resumes.indeed.com/search?q=doctor')\n",
    "\n",
    "url_list = []\n",
    "div = driver.find_element_by_css_selector('.rezemp-ResumeViewLayout-body')\n",
    "\n",
    "driver.quit()"
   ]
  },
  {
   "cell_type": "code",
   "execution_count": 96,
   "metadata": {
    "collapsed": true
   },
   "outputs": [],
   "source": [
    "resume_list = ['resume/f0283c1866aef293']"
   ]
  },
  {
   "cell_type": "code",
   "execution_count": 97,
   "metadata": {
    "collapsed": false,
    "scrolled": false
   },
   "outputs": [],
   "source": [
    "\n",
    "\n",
    "driver = webdriver.Chrome('/usr/local/bin/chromedriver')  \n",
    "\n",
    "work_exp_list = []\n",
    "education = []\n",
    "university = []\n",
    "\n",
    "for resume in resume_list:\n",
    "    \n",
    "    driver.get('https://resumes.indeed.com/' + resume) \n",
    "\n",
    "    individual_work_exp = []\n",
    "    for e in driver.find_elements_by_class_name(\"rezemp-WorkExperience\"):\n",
    "        individual_work_exp.append(e.text)\n",
    "    work_exp_list.append(individual_work_exp)\n",
    "\n",
    "    individual_education = []\n",
    "    for e in driver.find_elements_by_class_name(\"rezemp-ResumeDisplay-itemTitle\"):\n",
    "        individual_education.append(e.text)\n",
    "    education.append(individual_education)\n",
    "\n",
    "    individual_university = []\n",
    "    for e in driver.find_elements_by_class_name(\"rezemp-ResumeDisplay-university\"):\n",
    "        individual_university.append(e.text)\n",
    "    university.append(individual_university)\n",
    "\n",
    "    driver.quit()"
   ]
  },
  {
   "cell_type": "markdown",
   "metadata": {},
   "source": [
    "     we will have 4 variables per person\n",
    "    \n",
    "    id, work_exp_list, education, university\n"
   ]
  },
  {
   "cell_type": "code",
   "execution_count": null,
   "metadata": {
    "collapsed": true
   },
   "outputs": [],
   "source": []
  }
 ],
 "metadata": {
  "kernelspec": {
   "display_name": "Python 2",
   "language": "python",
   "name": "python2"
  },
  "language_info": {
   "codemirror_mode": {
    "name": "ipython",
    "version": 2
   },
   "file_extension": ".py",
   "mimetype": "text/x-python",
   "name": "python",
   "nbconvert_exporter": "python",
   "pygments_lexer": "ipython2",
   "version": "2.7.13"
  }
 },
 "nbformat": 4,
 "nbformat_minor": 2
}
