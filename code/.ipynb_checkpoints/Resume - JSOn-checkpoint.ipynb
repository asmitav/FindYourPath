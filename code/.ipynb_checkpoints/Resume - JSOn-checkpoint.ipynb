{
 "cells": [
  {
   "cell_type": "code",
   "execution_count": 122,
   "metadata": {
    "collapsed": false
   },
   "outputs": [],
   "source": [
    "import pandas as pd\n",
    "import json\n",
    "import regex as re\n",
    "import datefinder\n"
   ]
  },
  {
   "cell_type": "code",
   "execution_count": 123,
   "metadata": {
    "collapsed": false
   },
   "outputs": [],
   "source": [
    "resume_list = ['Engineering Manager.csv', 'Software Engineer.csv',\n",
    "'Finance Manager.csv','VP of Engineering.csv',\n",
    "'Financial Analyst.csv','VP of Marketing.csv',\n",
    "'Human Resource Manager.csv','VP of Operations.csv',\n",
    "'Marketing Director.csv','architect_resume.csv',\n",
    "'Operation Analyst.csv','auditor_resume.csv',\n",
    "'Operation Manager.csv','business_analyst_resume.csv',\n",
    "'Product Manager.csv','business_strategist_resume.csv',\n",
    "'Recruiter.csv','data_analyst_resume.csv',\n",
    "'Sales Associate.csv','data_engineer_resume.csv',\n",
    "'Sales Manager.csv','data_scientist_resume.csv',\n",
    "'Software Architect.csv']"
   ]
  },
  {
   "cell_type": "code",
   "execution_count": 124,
   "metadata": {
    "collapsed": false,
    "scrolled": false
   },
   "outputs": [],
   "source": [
    "def degree_json(education):\n",
    "    i = 1\n",
    "    degree_json_list = []\n",
    "    for degree in education: \n",
    "        degree_json_list.append('degree_' + str(i) + \" : \" + degree.replace(\"'\", \"\").replace('u', '').replace('[', '').replace(']', ''))\n",
    "        i += 1\n",
    "    return (', ').join(degree_json_list)\n",
    "    \n",
    "resume['education_json'] = resume['edu'].apply(lambda x: degree_json(x.split(',')))"
   ]
  },
  {
   "cell_type": "code",
   "execution_count": 125,
   "metadata": {
    "collapsed": false
   },
   "outputs": [
    {
     "name": "stdout",
     "output_type": "stream",
     "text": [
      "../Data/Profile_DFs/Engineering Manager.csv\n",
      "../Data/Profile_DFs/Software Engineer.csv\n",
      "../Data/Profile_DFs/Finance Manager.csv\n",
      "../Data/Profile_DFs/VP of Engineering.csv\n",
      "../Data/Profile_DFs/Financial Analyst.csv\n",
      "../Data/Profile_DFs/VP of Marketing.csv\n",
      "../Data/Profile_DFs/Human Resource Manager.csv\n",
      "../Data/Profile_DFs/VP of Operations.csv\n",
      "../Data/Profile_DFs/Marketing Director.csv\n",
      "../Data/Profile_DFs/architect_resume.csv\n",
      "../Data/Profile_DFs/Operation Analyst.csv\n",
      "../Data/Profile_DFs/auditor_resume.csv\n",
      "../Data/Profile_DFs/Operation Manager.csv\n",
      "../Data/Profile_DFs/business_analyst_resume.csv\n",
      "../Data/Profile_DFs/Product Manager.csv\n",
      "../Data/Profile_DFs/business_strategist_resume.csv\n",
      "../Data/Profile_DFs/Recruiter.csv\n",
      "../Data/Profile_DFs/data_analyst_resume.csv\n",
      "../Data/Profile_DFs/Sales Associate.csv\n",
      "../Data/Profile_DFs/data_engineer_resume.csv\n",
      "../Data/Profile_DFs/Sales Manager.csv\n",
      "../Data/Profile_DFs/data_scientist_resume.csv\n",
      "../Data/Profile_DFs/Software Architect.csv\n"
     ]
    }
   ],
   "source": [
    "for f in resume_list:\n",
    "    txt_file = '../Data/Profile_DFs/' + f\n",
    "    print txt_file\n",
    "\n",
    "    resume = pd.read_csv(txt_file, index_col=0)\n",
    "    resume['education_json'] = resume['edu'].apply(lambda x: degree_json(x.split(',')))\n",
    "        \n",
    "    resume.to_csv(txt_file)\n",
    "        "
   ]
  },
  {
   "cell_type": "code",
   "execution_count": null,
   "metadata": {
    "collapsed": true
   },
   "outputs": [],
   "source": []
  }
 ],
 "metadata": {
  "kernelspec": {
   "display_name": "Python 2",
   "language": "python",
   "name": "python2"
  },
  "language_info": {
   "codemirror_mode": {
    "name": "ipython",
    "version": 2
   },
   "file_extension": ".py",
   "mimetype": "text/x-python",
   "name": "python",
   "nbconvert_exporter": "python",
   "pygments_lexer": "ipython2",
   "version": "2.7.13"
  }
 },
 "nbformat": 4,
 "nbformat_minor": 2
}
