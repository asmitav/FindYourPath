{
 "cells": [
  {
   "cell_type": "code",
   "execution_count": 5,
   "metadata": {
    "collapsed": true
   },
   "outputs": [],
   "source": [
    "import numpy as np, pandas as pd\n",
    "import os"
   ]
  },
  {
   "cell_type": "code",
   "execution_count": 6,
   "metadata": {
    "collapsed": true
   },
   "outputs": [],
   "source": [
    "folder = \"/Users/alvira/Desktop/spring2/app_develop/FindYourPath/Data/Profile_DFs/\"\n",
    "destination_folder = \"/Users/alvira/Desktop/spring2/app_develop/FindYourPath/Data/Profile_Jobs/\""
   ]
  },
  {
   "cell_type": "code",
   "execution_count": 7,
   "metadata": {},
   "outputs": [],
   "source": [
    "items = os.listdir(folder)\n",
    "title_contents = [name.lower().replace(\".csv\",\"\").replace(\"resume\",\"\").replace(\"_\",\" \").strip() for name in items]\n",
    "title_contents = title_contents + [\"analyst\", \"manager\",\"director\", \"engineer\",\"associate\",\"scientist\"]"
   ]
  },
  {
   "cell_type": "code",
   "execution_count": 8,
   "metadata": {},
   "outputs": [
    {
     "data": {
      "text/plain": [
       "['architect',\n",
       " 'auditor',\n",
       " 'business analyst',\n",
       " 'business strategist',\n",
       " 'data analyst',\n",
       " 'data engineer',\n",
       " 'data scientist',\n",
       " 'engineering manager',\n",
       " 'finance manager',\n",
       " 'financial analyst',\n",
       " 'human resource manager',\n",
       " 'marketing director',\n",
       " 'operation analyst',\n",
       " 'operation manager',\n",
       " 'product manager',\n",
       " 'recruiter',\n",
       " 'sales associate',\n",
       " 'sales manager',\n",
       " 'software architect',\n",
       " 'software engineer',\n",
       " 'vp of engineering',\n",
       " 'vp of marketing',\n",
       " 'vp of operations',\n",
       " 'analyst',\n",
       " 'manager',\n",
       " 'director',\n",
       " 'engineer',\n",
       " 'associate',\n",
       " 'scientist']"
      ]
     },
     "execution_count": 8,
     "metadata": {},
     "output_type": "execute_result"
    }
   ],
   "source": [
    "title_contents"
   ]
  },
  {
   "cell_type": "code",
   "execution_count": 18,
   "metadata": {},
   "outputs": [],
   "source": [
    "for file_item in os.listdir(folder):\n",
    "    \n",
    "    raw_text = pd.read_csv(folder + str(file_item))\n",
    "    raw_text[\"job_titles\"] = np.empty((len(raw_text), 0)).tolist()\n",
    "    \n",
    "    for i in range(raw_text.shape[0]):\n",
    "        work_exp_example = raw_text[\"work_exp\"][i]\n",
    "#         print(work_exp_example)\n",
    "        v = work_exp_example.lower()[1:].split(\",\")\n",
    "        v = [item.split(\"\\\\n\") for item in v]\n",
    "        v = [item for sublist in v for item in sublist]\n",
    "#         print(v)\n",
    "\n",
    "        for item in v:\n",
    "            if any(title in item for title in title_contents) and len(item)<50:\n",
    "#                 print(item)\n",
    "                raw_text.loc[i,\"job_titles\"].append(item)\n",
    "#         print(raw_text.loc[i,\"job_titles\"])\n",
    "\n",
    "    raw_text.to_csv(destination_folder+file_item, index = None) "
   ]
  },
  {
   "cell_type": "code",
   "execution_count": 19,
   "metadata": {},
   "outputs": [
    {
     "data": {
      "text/plain": [
       "[\"u'sr director of consumer lending\",\n",
       " ' loan services manager',\n",
       " ' manager of special assets',\n",
       " ' assistant manager',\n",
       " ' branch manager',\n",
       " \" u'branch manager\"]"
      ]
     },
     "execution_count": 19,
     "metadata": {},
     "output_type": "execute_result"
    }
   ],
   "source": [
    "raw_text[\"job_titles\"][503]"
   ]
  },
  {
   "cell_type": "code",
   "execution_count": null,
   "metadata": {
    "collapsed": true
   },
   "outputs": [],
   "source": []
  },
  {
   "cell_type": "code",
   "execution_count": null,
   "metadata": {
    "collapsed": true
   },
   "outputs": [],
   "source": []
  },
  {
   "cell_type": "code",
   "execution_count": null,
   "metadata": {
    "collapsed": true
   },
   "outputs": [],
   "source": []
  },
  {
   "cell_type": "code",
   "execution_count": null,
   "metadata": {
    "collapsed": true
   },
   "outputs": [],
   "source": []
  },
  {
   "cell_type": "code",
   "execution_count": null,
   "metadata": {
    "collapsed": true
   },
   "outputs": [],
   "source": []
  },
  {
   "cell_type": "code",
   "execution_count": null,
   "metadata": {
    "collapsed": true
   },
   "outputs": [],
   "source": []
  },
  {
   "cell_type": "code",
   "execution_count": null,
   "metadata": {
    "collapsed": true
   },
   "outputs": [],
   "source": []
  },
  {
   "cell_type": "code",
   "execution_count": null,
   "metadata": {
    "collapsed": true
   },
   "outputs": [],
   "source": []
  },
  {
   "cell_type": "code",
   "execution_count": null,
   "metadata": {
    "collapsed": true
   },
   "outputs": [],
   "source": []
  },
  {
   "cell_type": "code",
   "execution_count": null,
   "metadata": {
    "collapsed": true
   },
   "outputs": [],
   "source": []
  },
  {
   "cell_type": "code",
   "execution_count": null,
   "metadata": {
    "collapsed": true
   },
   "outputs": [],
   "source": []
  },
  {
   "cell_type": "code",
   "execution_count": null,
   "metadata": {
    "collapsed": true
   },
   "outputs": [],
   "source": []
  },
  {
   "cell_type": "code",
   "execution_count": null,
   "metadata": {
    "collapsed": true
   },
   "outputs": [],
   "source": []
  },
  {
   "cell_type": "code",
   "execution_count": null,
   "metadata": {
    "collapsed": true
   },
   "outputs": [],
   "source": []
  },
  {
   "cell_type": "code",
   "execution_count": null,
   "metadata": {
    "collapsed": true
   },
   "outputs": [],
   "source": []
  },
  {
   "cell_type": "code",
   "execution_count": 132,
   "metadata": {},
   "outputs": [
    {
     "name": "stdout",
     "output_type": "stream",
     "text": [
      "[u'lead data analyst\n",
      "nectar omni channel marketing - dallas  tx january 2017 to present\n",
      "1\n",
      " u'data engineer\n",
      "nectar omni channel marketing - dallas  tx june 2016 to present\n",
      "11\n",
      " u'system engineer\n",
      "tata consultancy services - bengaluru  karnataka october 2011 to december 2014\n",
      "28\n"
     ]
    }
   ],
   "source": [
    "ct = 0\n",
    "for item in v:\n",
    "    ct = ct+1\n",
    "    if any(title in item for title in title_contents) and len(item)<50:\n",
    "        print(item)\n",
    "        print(v[ct], v[ct+1], v[ct+2])"
   ]
  },
  {
   "cell_type": "code",
   "execution_count": null,
   "metadata": {
    "collapsed": true
   },
   "outputs": [],
   "source": []
  }
 ],
 "metadata": {
  "hide_input": false,
  "kernelspec": {
   "display_name": "Python 3",
   "language": "python",
   "name": "python3"
  },
  "language_info": {
   "codemirror_mode": {
    "name": "ipython",
    "version": 3
   },
   "file_extension": ".py",
   "mimetype": "text/x-python",
   "name": "python",
   "nbconvert_exporter": "python",
   "pygments_lexer": "ipython3",
   "version": "3.6.3"
  }
 },
 "nbformat": 4,
 "nbformat_minor": 2
}
